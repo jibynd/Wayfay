{
 "cells": [
  {
   "cell_type": "code",
   "execution_count": null,
   "metadata": {},
   "outputs": [],
   "source": [
    "import pandas as pd\n",
    "import numpy as np"
   ]
  },
  {
   "cell_type": "code",
   "execution_count": null,
   "metadata": {},
   "outputs": [],
   "source": [
    "dict(a = 1)"
   ]
  },
  {
   "cell_type": "code",
   "execution_count": 67,
   "metadata": {},
   "outputs": [],
   "source": [
    "class Var:\n",
    "    _vars = {}  # <- Class variable\n",
    "\n",
    "    def __init__(self, name, dum):\n",
    "        self.name = name  # <- Instance variable\n",
    "        self._vars[name] = self\n",
    "        self.ls = []\n",
    "        self.dum = dum\n",
    "\n",
    "    def prop(self):\n",
    "        for v in self._vars:\n",
    "            #self._vars[v].ls.append(self.dum)\n",
    "            #self._vars[v].ls += [self.dum]\n",
    "            self._vars[v].ls = self._vars[v].ls + [self.dum]\n",
    "\n",
    "    def __repr__(self):\n",
    "        return \"Var(\" + self.name + \")\"\n",
    "\n",
    "    @classmethod\n",
    "    def spit(cls):\n",
    "        for v in cls._vars:\n",
    "            print(v, cls._vars[v].ls)"
   ]
  },
  {
   "cell_type": "code",
   "execution_count": 68,
   "metadata": {},
   "outputs": [],
   "source": [
    "vars = Var._vars"
   ]
  },
  {
   "cell_type": "code",
   "execution_count": 69,
   "metadata": {},
   "outputs": [],
   "source": [
    "x = Var(\"x\", 1)\n",
    "y = Var(\"y\", 2)"
   ]
  },
  {
   "cell_type": "code",
   "execution_count": 116,
   "metadata": {},
   "outputs": [
    {
     "name": "stdout",
     "output_type": "stream",
     "text": [
      "y [1, 2, 1, 2, 3, 2, 3, 3, 2, 3, 3, 2, 3, 2, 3, 4]\n",
      "z [3, 2, 3, 2, 3, 4]\n",
      "k [2, 3, 4]\n"
     ]
    }
   ],
   "source": [
    "y.spit()"
   ]
  },
  {
   "cell_type": "code",
   "execution_count": 115,
   "metadata": {},
   "outputs": [],
   "source": [
    "for v in vars:\n",
    "    vars[v].prop()\n",
    "    \n"
   ]
  },
  {
   "cell_type": "code",
   "execution_count": 105,
   "metadata": {},
   "outputs": [],
   "source": [
    "z = Var(\"z\",3)"
   ]
  },
  {
   "cell_type": "code",
   "execution_count": 106,
   "metadata": {},
   "outputs": [],
   "source": [
    "z.prop()"
   ]
  },
  {
   "cell_type": "code",
   "execution_count": 112,
   "metadata": {},
   "outputs": [],
   "source": [
    "x._vars = vars.copy()"
   ]
  },
  {
   "cell_type": "code",
   "execution_count": 118,
   "metadata": {},
   "outputs": [
    {
     "data": {
      "text/plain": [
       "({'y': Var(y), 'z': Var(z)}, {'y': Var(y), 'z': Var(z), 'k': Var(k)})"
      ]
     },
     "execution_count": 118,
     "metadata": {},
     "output_type": "execute_result"
    }
   ],
   "source": [
    "x._vars, y._vars  #[\"y\"].spit() #, x.__class__._vars"
   ]
  },
  {
   "cell_type": "code",
   "execution_count": 114,
   "metadata": {},
   "outputs": [],
   "source": [
    "k = Var(\"k\", 4)"
   ]
  },
  {
   "cell_type": "code",
   "execution_count": 97,
   "metadata": {},
   "outputs": [],
   "source": [
    "class Dog:\n",
    "    num_legs = 4  # <- Class variable\n",
    "\n",
    "    def __init__(self, name):\n",
    "        self.name = name  # <- Instance variable"
   ]
  },
  {
   "cell_type": "code",
   "execution_count": 88,
   "metadata": {},
   "outputs": [
    {
     "data": {
      "text/plain": [
       "('Jack', 'Jill')"
      ]
     },
     "execution_count": 88,
     "metadata": {},
     "output_type": "execute_result"
    }
   ],
   "source": [
    "jack = Dog('Jack')\n",
    ">>> jill = Dog('Jill')\n",
    ">>> jack.name, jill.name"
   ]
  },
  {
   "cell_type": "code",
   "execution_count": 90,
   "metadata": {},
   "outputs": [],
   "source": [
    "jack.num_legs = 6"
   ]
  },
  {
   "cell_type": "code",
   "execution_count": 93,
   "metadata": {},
   "outputs": [
    {
     "data": {
      "text/plain": [
       "(6, 4)"
      ]
     },
     "execution_count": 93,
     "metadata": {},
     "output_type": "execute_result"
    }
   ],
   "source": [
    "jack.num_legs, jack.__class__.num_legs"
   ]
  },
  {
   "cell_type": "code",
   "execution_count": null,
   "metadata": {},
   "outputs": [],
   "source": []
  }
 ],
 "metadata": {
  "interpreter": {
   "hash": "f9af09ce1ebc96890f56266655b5c02a20c5126b16a835fe11fc11978fa342e3"
  },
  "kernelspec": {
   "display_name": "Python 3.9.5 64-bit ('ndenv': conda)",
   "language": "python",
   "name": "python3"
  },
  "language_info": {
   "codemirror_mode": {
    "name": "ipython",
    "version": 3
   },
   "file_extension": ".py",
   "mimetype": "text/x-python",
   "name": "python",
   "nbconvert_exporter": "python",
   "pygments_lexer": "ipython3",
   "version": "3.9.5"
  },
  "orig_nbformat": 4
 },
 "nbformat": 4,
 "nbformat_minor": 2
}
