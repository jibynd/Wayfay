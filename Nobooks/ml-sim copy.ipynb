{
 "cells": [
  {
   "cell_type": "code",
   "execution_count": null,
   "metadata": {},
   "outputs": [],
   "source": [
    "import  numpy as np\n",
    "import pandas as pd\n",
    "from importlib import reload\n",
    "import bayes\n",
    "reload(bayes)\n",
    "import time\n",
    "import simuls, utils \n",
    "from tqdm.notebook import tqdm\n",
    "#ExampleThree = simuls.ExampleThree\n",
    "from simuls import *\n",
    "from utils import *"
   ]
  },
  {
   "cell_type": "code",
   "execution_count": null,
   "metadata": {},
   "outputs": [],
   "source": [
    "data = ExampleOne(n = 60, sig = 1, with_test = True, seed = 1).data\n",
    "data.to_df()\n",
    "data.train.to_df(); data.test.to_df()\n",
    "cols = [col for col in data.df.columns if \"x\" in col]"
   ]
  },
  {
   "cell_type": "code",
   "execution_count": null,
   "metadata": {},
   "outputs": [],
   "source": []
  },
  {
   "cell_type": "code",
   "execution_count": null,
   "metadata": {},
   "outputs": [],
   "source": [
    "reload(bayes)"
   ]
  },
  {
   "cell_type": "code",
   "execution_count": null,
   "metadata": {},
   "outputs": [],
   "source": [
    "scores = {\"mse\":[], \"corr\":[]}\n",
    "start = time.time(); n_iter = 100\n",
    "for i in tqdm(range(n_iter)):\n",
    "    data = ExampleOne(n = 200, sig=5, with_test = True, seed = i + 1).data\n",
    "    #data.train.to_df(); data.test.to_df()\n",
    "    yt = data.test.y; X_ = data.test.X \n",
    "    model = bayes.Wayfay(nIter=100, ld0=1/1, eps=1/10000)\n",
    "    model.fit(data.train.y, data.train.X) \n",
    "    BM = model.variables[\"B\"].storage\n",
    "    gam = model.gammas.storage.mean(axis=0) \n",
    "    B = BM.mean(axis=0)\n",
    "    preds = dot(X_, B)\n",
    "    sc = mse(preds, yt) ; print(sc)\n",
    "    scores[\"mse\"] += [sc]\n",
    "    scores[\"corr\"] += [np.corrcoef(preds, yt)[0,1]]\n",
    "end = time.time() - start \n",
    "name = \"walasso\"\n",
    "res_df = [name, np.array(scores[\"mse\"]).mean(), np.array(scores[\"corr\"]).mean(), end / n_iter]\n",
    "print(res_df)\n",
    "#res_df.to_csv(\"Data/Ex3_100_1_bis.csv\")\n",
    "\n"
   ]
  },
  {
   "cell_type": "code",
   "execution_count": null,
   "metadata": {},
   "outputs": [],
   "source": [
    "scores"
   ]
  },
  {
   "cell_type": "code",
   "execution_count": null,
   "metadata": {},
   "outputs": [],
   "source": [
    "data.test.y"
   ]
  },
  {
   "cell_type": "code",
   "execution_count": null,
   "metadata": {},
   "outputs": [],
   "source": []
  }
 ],
 "metadata": {
  "interpreter": {
   "hash": "3aae98d3aa184d0f9369cd41bccf387b5a6c7ce85d52a995627a41140d6e24cb"
  },
  "kernelspec": {
   "display_name": "Python 3.8.11 64-bit ('caret': conda)",
   "name": "python3"
  },
  "language_info": {
   "codemirror_mode": {
    "name": "ipython",
    "version": 3
   },
   "file_extension": ".py",
   "mimetype": "text/x-python",
   "name": "python",
   "nbconvert_exporter": "python",
   "pygments_lexer": "ipython3",
   "version": "3.9.5"
  },
  "orig_nbformat": 4
 },
 "nbformat": 4,
 "nbformat_minor": 2
}
