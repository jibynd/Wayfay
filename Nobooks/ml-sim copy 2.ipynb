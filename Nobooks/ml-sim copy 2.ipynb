{
 "cells": [
  {
   "cell_type": "code",
   "execution_count": null,
   "metadata": {},
   "outputs": [],
   "source": [
    "import  numpy as np\n",
    "import pandas as pd\n",
    "import importlib\n",
    "import time\n",
    "import simuls, utils \n",
    "from pycaret.regression import *\n",
    "from tqdm.notebook import tqdm\n",
    "importlib.reload(simuls)\n",
    "importlib.reload(utils)\n",
    "#ExampleThree = simuls.ExampleThree\n",
    "from simuls import *\n",
    "from utils import *"
   ]
  },
  {
   "cell_type": "code",
   "execution_count": null,
   "metadata": {},
   "outputs": [],
   "source": [
    "data = ExampleThree(n = 60, sig = 1, with_test = True, seed = 1).data\n",
    "data.to_df()\n",
    "data.train.to_df(); data.test.to_df()\n",
    "cols = [col for col in data.df.columns if \"x\" in col]"
   ]
  },
  {
   "cell_type": "code",
   "execution_count": null,
   "metadata": {},
   "outputs": [],
   "source": [
    "fast_models = [\"lr\", \"br\", \"llar\", \"svm\",  \"en\", \"gbr\", \"omp\", \"kr\"] # lar\n",
    "slow_models = [\"et\", \"rf\", \"xgboost\", \"mlp\", \"tr\", ] "
   ]
  },
  {
   "cell_type": "code",
   "execution_count": null,
   "metadata": {},
   "outputs": [],
   "source": [
    "res_df = pd.DataFrame({\"name\":fast_models}).set_index(\"name\")\n",
    "res_df[[\"model\", \"mse\", \"corr\", \"time\"]] = None\n",
    "res_df = pd.read_csv(\"Data/Ex3_1000_5.csv\")"
   ]
  },
  {
   "cell_type": "code",
   "execution_count": null,
   "metadata": {},
   "outputs": [],
   "source": [
    "tracker = []\n",
    "for model in [\"svm\",  \"en\", \"gbr\", \"omp\", \"kr\"]:\n",
    "    scores = {\"mse\":[], \"corr\":[]}\n",
    "    tracker += [model]\n",
    "    print(\"Evaluating \"+ model)\n",
    "    start = time.time(); n_iter = 100\n",
    "    for i in tqdm(range(n_iter)):\n",
    "        data = ExampleThree(n = 2000, sig=5, with_test = True, seed = i + 1).data\n",
    "        data.train.to_df(); data.test.to_df()\n",
    "        yt = data.test.df[\"y\"]\n",
    "        out = setup(data = data.train.df, test_data= None, target = \"y\", silent = True, remove_multicollinearity= True, \n",
    "            verbose = False, preprocess = False)\n",
    "        tuned = tune_model(create_model(model, cross_validation = False, verbose = False), optimize = \"MSE\", \n",
    "            choose_better = False, verbose = False)\n",
    "        preds = tuned.predict(data.test.df[cols]) \n",
    "        scores[\"mse\"] += [mse(preds, yt)]\n",
    "        scores[\"corr\"] += [np.corrcoef(preds, yt)[0,1]]\n",
    "    end = time.time() - start \n",
    "    name = get_name(tuned)\n",
    "    res_df.loc[model, [\"model\", \"mse\", \"corr\", \"time\"]] = [name, np.array(scores[\"mse\"]).mean(), np.array(scores[\"corr\"]).mean(), end / n_iter]\n",
    "    print(res_df.loc[tracker,:])\n",
    "    res_df.to_csv(\"Data/Ex3_1000_5.csv\")\n",
    "\n",
    "    "
   ]
  },
  {
   "cell_type": "code",
   "execution_count": null,
   "metadata": {},
   "outputs": [],
   "source": [
    "import os"
   ]
  },
  {
   "cell_type": "code",
   "execution_count": null,
   "metadata": {},
   "outputs": [],
   "source": [
    "sdf = res_df.copy()"
   ]
  },
  {
   "cell_type": "code",
   "execution_count": null,
   "metadata": {},
   "outputs": [],
   "source": []
  },
  {
   "cell_type": "code",
   "execution_count": null,
   "metadata": {},
   "outputs": [],
   "source": [
    "#paths = [p for p in os.listdir(\"Data\") if p.endswith(\"csv\")]\n",
    "paths = ['Ex3_200_1.csv','Ex3_1000_5.csv',]\n",
    "#paths = ['Ex1_100_5.csv','Ex2_30_5.csv',]"
   ]
  },
  {
   "cell_type": "code",
   "execution_count": null,
   "metadata": {},
   "outputs": [],
   "source": [
    "df = pd.read_csv(\"Data/Ex3_100_1.csv\").set_index(\"model\")\n",
    "for path in paths:\n",
    "    if path == \"Ex1_30_1.csv\": continue\n",
    "    x = pd.read_csv(\"Data/\"+path)\n",
    "    nam = path.split(\".\")[0]\n",
    "    x = x.set_index(\"model\")\n",
    "    x.rename({\"mse\":\"mse_\"+nam, \"corr\":\"corr_\"+nam}, inplace=True, axis = 1)\n",
    "    df = df.merge(x[[\"mse_\"+nam, \"corr_\"+nam]], left_index = True, right_index = True, how=\"left\")"
   ]
  },
  {
   "cell_type": "code",
   "execution_count": null,
   "metadata": {},
   "outputs": [],
   "source": [
    "#df.reset_index().to_csv(\"Data/all.csv\")\n",
    "#df = df.drop(\"name,time,corr,mse\".split(\",\"), axis =1)\n",
    "df"
   ]
  },
  {
   "cell_type": "code",
   "execution_count": null,
   "metadata": {},
   "outputs": [],
   "source": [
    "df = round(df, 4)"
   ]
  },
  {
   "cell_type": "code",
   "execution_count": null,
   "metadata": {},
   "outputs": [],
   "source": [
    "df = df.drop([\"time\", \"name\"], axis =1).reset_index()"
   ]
  },
  {
   "cell_type": "code",
   "execution_count": null,
   "metadata": {},
   "outputs": [],
   "source": [
    "to_latex(df)"
   ]
  },
  {
   "cell_type": "code",
   "execution_count": null,
   "metadata": {},
   "outputs": [],
   "source": [
    "df"
   ]
  },
  {
   "cell_type": "code",
   "execution_count": null,
   "metadata": {},
   "outputs": [],
   "source": []
  }
 ],
 "metadata": {
  "interpreter": {
   "hash": "3aae98d3aa184d0f9369cd41bccf387b5a6c7ce85d52a995627a41140d6e24cb"
  },
  "kernelspec": {
   "display_name": "Python 3.8.11 64-bit ('caret': conda)",
   "name": "python3"
  },
  "language_info": {
   "codemirror_mode": {
    "name": "ipython",
    "version": 3
   },
   "file_extension": ".py",
   "mimetype": "text/x-python",
   "name": "python",
   "nbconvert_exporter": "python",
   "pygments_lexer": "ipython3",
   "version": "3.8.11"
  },
  "orig_nbformat": 4
 },
 "nbformat": 4,
 "nbformat_minor": 2
}
