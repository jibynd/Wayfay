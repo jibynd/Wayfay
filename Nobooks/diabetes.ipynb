{
 "cells": [
  {
   "cell_type": "code",
   "execution_count": 31,
   "metadata": {},
   "outputs": [],
   "source": [
    "from importlib import reload\n",
    "import bayes\n",
    "reload(bayes)\n",
    "import numpy as np\n",
    "import seaborn as sns\n",
    "import pandas as pd\n",
    "import matplotlib.pyplot as plt\n",
    "from sklearn.preprocessing  import scale\n",
    "from sklearn.model_selection import KFold, ShuffleSplit\n",
    "from utils import *\n",
    "np.set_printoptions(precision=2)"
   ]
  },
  {
   "cell_type": "code",
   "execution_count": 2,
   "metadata": {},
   "outputs": [],
   "source": [
    "def bmi(h, w):\n",
    "    h = h*0.0254\n",
    "    w = w * 0.453592\n",
    "    return w / (h**2)"
   ]
  },
  {
   "cell_type": "code",
   "execution_count": 3,
   "metadata": {},
   "outputs": [],
   "source": [
    "data = pd.read_csv(\"diabes.csv\")\n",
    "cols = [\"chol\", \"glyhb\", \"stab.glu\", \"hdl\", \"age\", \"gender\", \"obe\", \"ow\" , \"bps\", \"bpd\", \"whr\", \"ppt\", \"> 55\" ] # \"bmi\"\n",
    "data[\"whr\"] = data[\"waist\"] / data[\"hip\"]\n",
    "data[\"bmi\"] = bmi(data[\"height\"], data[\"weight\"])\n",
    "data[\"ppt\"] = data[\"time.ppn\"] < 120\n",
    "data[\"obe\"] = data[\"bmi\"] > 30\n",
    "data[\"ow\"] = (data[\"bmi\"] < 30) & (data[\"bmi\"] > 25)\n",
    "data[\"> 55\"] = data[\"age\"] > 55\n",
    "data[\"bps\"] = data[\"bp.1s\"] #(data[\"bp.1s\"] + data[\"bp.2s\"])/2\n",
    "data[\"bpd\"] = data[\"bp.1d\"] #(data[\"bp.1d\"] + data[\"bp.2d\"])/2\n",
    "df = data[cols]; cols.remove(\"glyhb\")\n",
    "df = df[~pd.isna(df).any(axis = 1)]\n",
    "df[\"gender\"] = df[\"gender\"] == \"female\"\n",
    "#df[\"one\"] = 1\n",
    "y_0 = df.pop(\"glyhb\").to_numpy().astype(float)\n",
    "X = df.to_numpy().astype(float)\n",
    "y = scale(y_0, with_std=False)\n",
    "X = scale(X, with_mean=False)\n",
    "\n"
   ]
  },
  {
   "cell_type": "code",
   "execution_count": 4,
   "metadata": {},
   "outputs": [],
   "source": [
    "#y = np.log(y_+1)"
   ]
  },
  {
   "cell_type": "code",
   "execution_count": null,
   "metadata": {},
   "outputs": [],
   "source": [
    "model = bayes.Wayfay(nIter=1000, ld0=1, eps=5/10000)\n",
    "model.fit(y, X)"
   ]
  },
  {
   "cell_type": "code",
   "execution_count": null,
   "metadata": {},
   "outputs": [],
   "source": [
    "beta = model.variables[\"B\"].storage.mean(axis = 0) \n",
    "gams = model.gammas.storage.mean(axis=0) "
   ]
  },
  {
   "cell_type": "code",
   "execution_count": null,
   "metadata": {},
   "outputs": [],
   "source": [
    "sns.set_style(\"dark\")\n",
    "plt.figure(figsize=(8, 4))\n",
    "ax = plt.gca()\n",
    "ax.scatter(y = gams, x = cols, c = gams,  cmap=\"rainbow\") # cmap=\"cool\"\n",
    "ax.set_ylabel('Proportions')\n",
    "ax.set_xlabel('Variables indices')\n",
    "plt.show() "
   ]
  },
  {
   "cell_type": "code",
   "execution_count": null,
   "metadata": {},
   "outputs": [],
   "source": [
    "BM = pd.DataFrame(model.variables[\"B\"].storage[:, gams > 0.5], columns=np.array(cols)[gams > 0.5])\n",
    "ZM = pd.DataFrame(model.variables[\"B\"].storage[:, gams < 0.5], columns=np.array(cols)[gams < 0.5])\n",
    "#sns.violinplot(data=BM,palette=\"Set1\", bw=1,  linewidth=1/4) \n",
    "sns.violinplot(data=ZM, palette=\"Set2\", bw=1,  linewidth=1/4)"
   ]
  },
  {
   "cell_type": "code",
   "execution_count": null,
   "metadata": {},
   "outputs": [],
   "source": [
    "model.variables[\"sig\"].storage.mean() , np.median(model.variables[\"sig\"].storage), model.variables[\"sig\"].storage[0]"
   ]
  },
  {
   "cell_type": "code",
   "execution_count": null,
   "metadata": {},
   "outputs": [],
   "source": [
    "sns.set_style(\"dark\")\n",
    "plt.figure(figsize=(8, 4))\n",
    "ax = plt.gca()\n",
    "#ax.scatter(y = model.variables[\"sig\"].storage, x = np.arange(1000),   cmap=\"rainbow\") # cmap=\"cool\"\n",
    "ax.hist(model.variables[\"sig\"].storage, bins=50)\n",
    "ax.set_ylabel('Sigma Squared')\n",
    "ax.set_xlabel('Iteration indices')\n",
    "plt.show() "
   ]
  },
  {
   "cell_type": "code",
   "execution_count": null,
   "metadata": {},
   "outputs": [],
   "source": [
    "gams = model.gammas.storage.mean(axis=0) \n",
    "#df.columns, gams, gams >  0.5\n",
    "pd.DataFrame(gams.reshape(1, -1), columns=df.columns)"
   ]
  },
  {
   "cell_type": "code",
   "execution_count": 5,
   "metadata": {},
   "outputs": [],
   "source": [
    "def ciw(low, y, high):\n",
    "    return ((low <= y) & (y <= high)).mean()\n",
    "def liner_0(c, x):\n",
    "    return x + c*abs(x)\n",
    "def cisearch(low, high, y, lr = 0.1, thres = 0.95, n = 100):\n",
    "    curr = ciw(low, y, high)\n",
    "    a = 1; b = 1\n",
    "    while curr < thres and n > 1:\n",
    "        curr_a = ciw(liner(-(a+lr), low), y, liner(b, high))\n",
    "        curr_b = ciw(liner(-a, low), y, liner((b+lr), high))\n",
    "        diff_a = curr_a - curr\n",
    "        diff_b = curr_b - curr\n",
    "        #print(diff_a, curr, diff_b)\n",
    "        if diff_a < diff_b:\n",
    "            b += lr\n",
    "        elif diff_a == diff_b:\n",
    "            b += lr\n",
    "            a += lr\n",
    "        else:\n",
    "            a += lr\n",
    "        curr = ciw(liner(-a, low), y, liner(b, high))\n",
    "        n -= 1\n",
    "        #print(a,b)\n",
    "    print(\"found\", curr)\n",
    "    return a, b \n",
    "def liner(c, x):\n",
    "    return x + c*abs(x)**(0.33)\n"
   ]
  },
  {
   "cell_type": "code",
   "execution_count": 37,
   "metadata": {},
   "outputs": [
    {
     "name": "stdout",
     "output_type": "stream",
     "text": [
      "Fold:  0\n",
      "found 0.9825072886297376\n",
      "1.7003619551444153 1.0\n",
      "Fold:  1\n",
      "found 0.9825072886297376\n",
      "1.3770849413026545 1.0\n",
      "Fold:  2\n",
      "found 0.9825072886297376\n",
      "1.7097917685879815 0.9487179487179487\n",
      "Fold:  3\n",
      "found 0.9825072886297376\n",
      "1.9317826990130385 0.9743589743589743\n",
      "Fold:  4\n",
      "found 0.9825072886297376\n",
      "3.066876031253452 0.9743589743589743\n",
      "Fold:  5\n",
      "found 0.9825072886297376\n",
      "5.318028979237912 0.9230769230769231\n",
      "Fold:  6\n",
      "found 0.9825072886297376\n",
      "2.501775932708809 0.9743589743589743\n",
      "Fold:  7\n",
      "found 0.9825072886297376\n",
      "3.606120989836662 0.9487179487179487\n",
      "Fold:  8\n",
      "found 0.9825072886297376\n",
      "1.895978413582328 0.9230769230769231\n",
      "Fold:  9\n",
      "found 0.9825072886297376\n",
      "1.8905836691139393 1.0\n"
     ]
    }
   ],
   "source": [
    "np.random.seed(0)\n",
    "shuffle_split = ShuffleSplit(n_splits=10)\n",
    "scores = []; cils = []; cov = []; alpha = 0.05/2\n",
    "ls = np.array([]); hs = ls; preds = ls; ys = ls\n",
    "for i, (train_indexes, test_indexes) in enumerate(shuffle_split.split(X)):\n",
    "    print(\"Fold: \", i)\n",
    "    model = bayes.Wayfay(nIter=100, ld0=1, eps=5/10000) # 5/10000, 10/10000\n",
    "    model.fit(y[train_indexes], X[train_indexes]) \n",
    "    BM = model.variables[\"B\"].storage\n",
    "    gam = model.gammas.storage.mean(axis=0) \n",
    "    B = BM.mean(axis=0)\n",
    "    X_ = X[test_indexes] ; y_ = y[test_indexes]\n",
    "    pred = dot(X_, B)\n",
    "    l, h = np.quantile(dot(X[train_indexes], BM.T), q = [alpha, 1-alpha], axis =1)\n",
    "    a, b = cisearch(l, h, y[train_indexes], lr = 0.01, thres = 0.98, n = 500) \n",
    "    l, h = np.quantile(dot(X_, BM.T), q = [alpha, 1-alpha], axis =1)\n",
    "    h = liner(b, h)\n",
    "    l = liner(-a, l)\n",
    "    l[l < min(y[train_indexes])] = min(y[train_indexes])\n",
    "    precision = ciw(l, y_, h)\n",
    "    diff = y_ - pred\n",
    "    ls = np.concatenate([ls, l]); hs = np.concatenate([hs, h]); \n",
    "    preds = np.concatenate([preds, pred]); ys = np.concatenate([ys, y_]); \n",
    "    mse = norm(diff)\n",
    "    scores.append(mse)\n",
    "    cils.append(np.mean(h - l))\n",
    "    cov.append(precision)\n",
    "    print(mse, precision)"
   ]
  },
  {
   "cell_type": "code",
   "execution_count": 38,
   "metadata": {},
   "outputs": [
    {
     "data": {
      "text/plain": [
       "(2.4998385379781194, 0.9666666666666666, 6.220581558945679)"
      ]
     },
     "execution_count": 38,
     "metadata": {},
     "output_type": "execute_result"
    }
   ],
   "source": [
    "np.mean(scores), np.mean(cov), np.mean(cils)"
   ]
  },
  {
   "cell_type": "code",
   "execution_count": 36,
   "metadata": {},
   "outputs": [
    {
     "data": {
      "text/plain": [
       "[1.668888535345663,\n",
       " 1.9838318859334028,\n",
       " 1.4229773442447082,\n",
       " 2.540285609765577,\n",
       " 1.1071387232549301,\n",
       " 4.33571364646282,\n",
       " 1.4483660156567681,\n",
       " 3.597948262401204,\n",
       " 1.5566265609834933,\n",
       " 3.2787628834339038]"
      ]
     },
     "execution_count": 36,
     "metadata": {},
     "output_type": "execute_result"
    }
   ],
   "source": [
    "scores"
   ]
  },
  {
   "cell_type": "code",
   "execution_count": 172,
   "metadata": {},
   "outputs": [],
   "source": [
    "fr = pd.DataFrame({\"MSE\":scores, \"COV\":cov, \"CIW\":cils}, index=[\"Fold \" + str(d+1) for d in np.arange(10)])"
   ]
  },
  {
   "cell_type": "code",
   "execution_count": 179,
   "metadata": {},
   "outputs": [],
   "source": [
    "frw = round(fr, 4)"
   ]
  },
  {
   "cell_type": "code",
   "execution_count": 178,
   "metadata": {},
   "outputs": [
    {
     "name": "stdout",
     "output_type": "stream",
     "text": [
      "Fold 1 & 1.7157 & 0.9744 & 6.069 \\\\ \n",
      "Fold 2 & 1.2611 & 1.0 & 5.3084 \\\\ \n",
      "Fold 3 & 0.8781 & 1.0 & 6.0133 \\\\ \n",
      "Fold 4 & 1.2824 & 1.0 & 5.6669 \\\\ \n",
      "Fold 5 & 3.8303 & 0.9744 & 6.0293 \\\\ \n",
      "Fold 6 & 1.4116 & 0.9744 & 6.0392 \\\\ \n",
      "Fold 7 & 1.8173 & 0.9487 & 5.3442 \\\\ \n",
      "Fold 8 & 1.882 & 0.9744 & 5.6052 \\\\ \n",
      "Fold 9 & 1.6701 & 0.9744 & 5.3951 \\\\ \n",
      "Fold 10 & 1.2555 & 1.0 & 5.8861\n"
     ]
    }
   ],
   "source": [
    "to_latex(fr.reset_index())"
   ]
  },
  {
   "cell_type": "code",
   "execution_count": 10,
   "metadata": {},
   "outputs": [
    {
     "data": {
      "text/plain": [
       "1.605"
      ]
     },
     "execution_count": 10,
     "metadata": {},
     "output_type": "execute_result"
    }
   ],
   "source": [
    "np.mean([1.25, 1.24, 1.55, 1.21, 1.45, 1.47, 3.44, 1.23])"
   ]
  },
  {
   "cell_type": "code",
   "execution_count": 139,
   "metadata": {},
   "outputs": [
    {
     "data": {
      "text/plain": [
       "<AxesSubplot:>"
      ]
     },
     "execution_count": 139,
     "metadata": {},
     "output_type": "execute_result"
    },
    {
     "data": {
      "image/png": "[encoded data removed]",
      "text/plain": [
       "<Figure size 432x288 with 1 Axes>"
      ]
     },
     "metadata": {},
     "output_type": "display_data"
    }
   ],
   "source": [
    "xx = pd.DataFrame({\"l\":ls, \"h\":hs, \"y\":ys}, index=preds)\n",
    "#sns.scatt(data=xx.T, palette=\"Set2\", bw=1,  linewidth=1/4)\n",
    "#sns.scatterplot(data=xx)\n",
    "sns.lineplot(data=xx)"
   ]
  },
  {
   "cell_type": "code",
   "execution_count": 104,
   "metadata": {},
   "outputs": [
    {
     "data": {
      "text/plain": [
       "(390,)"
      ]
     },
     "execution_count": 104,
     "metadata": {},
     "output_type": "execute_result"
    }
   ],
   "source": [
    "ls.shape"
   ]
  },
  {
   "cell_type": "code",
   "execution_count": 140,
   "metadata": {},
   "outputs": [
    {
     "name": "stdout",
     "output_type": "stream",
     "text": [
      "found 1.0\n"
     ]
    },
    {
     "data": {
      "text/plain": [
       "(1, 1)"
      ]
     },
     "execution_count": 140,
     "metadata": {},
     "output_type": "execute_result"
    }
   ],
   "source": [
    "cisearch(l, h, y_, thres=0.98)"
   ]
  },
  {
   "cell_type": "code",
   "execution_count": null,
   "metadata": {},
   "outputs": [],
   "source": [
    "from statsmodels.graphics.tsaplots import plot_acf, plot_pacf"
   ]
  },
  {
   "cell_type": "code",
   "execution_count": null,
   "metadata": {},
   "outputs": [],
   "source": [
    "plot_pacf(model.variables[\"sig\"].storage, lags = 50)\n",
    "plt.show()"
   ]
  },
  {
   "cell_type": "code",
   "execution_count": null,
   "metadata": {},
   "outputs": [],
   "source": [
    "preds = dot(X, B)\n",
    "errs = y - preds\n",
    "#sns.set_style(\"dark\")\n",
    "plt.figure(figsize=(8, 6))\n",
    "ax = plt.gca()\n",
    "ax.scatter(y = errs, x = y_, c = preds,  cmap=\"Greys\") # cmap=\"cool\"\n",
    "ax.set_ylabel('trues - predictions')\n",
    "ax.set_xlabel('True values')\n",
    "plt.show() "
   ]
  },
  {
   "cell_type": "code",
   "execution_count": null,
   "metadata": {},
   "outputs": [],
   "source": [
    "df[\"Residuals\"] = errs\n",
    "sns.displot(df, x = \"Residuals\")"
   ]
  },
  {
   "cell_type": "code",
   "execution_count": null,
   "metadata": {},
   "outputs": [],
   "source": [
    "df[\"Estimated values\"] = preds + y_.mean()\n",
    "sns.displot(df, x = \"Estimated values\")"
   ]
  },
  {
   "cell_type": "code",
   "execution_count": null,
   "metadata": {},
   "outputs": [],
   "source": [
    "#sns.pairplot(data[[\"chol\", \"glyhb\", \"stab.glu\",\"ppt\"]], hue=\"ppt\")\n",
    "# 'chol', 'stab.glu', 'hdl', 'ratio', 'glyhb', 'location', 'age'\n",
    "sns.relplot(x=\"age\", y=\"glyhb\", data = data)"
   ]
  },
  {
   "cell_type": "code",
   "execution_count": 145,
   "metadata": {},
   "outputs": [],
   "source": [
    "from ngboost import NGBRegressor\n",
    "from sklearn.model_selection import train_test_split\n",
    "from ngboost.distns import LogNormal\n",
    "from scipy.stats import lognorm"
   ]
  },
  {
   "cell_type": "code",
   "execution_count": null,
   "metadata": {},
   "outputs": [],
   "source": [
    "#from scipy.stats import norm"
   ]
  },
  {
   "cell_type": "code",
   "execution_count": null,
   "metadata": {},
   "outputs": [],
   "source": [
    "X_train, X_test, Y_train, Y_test = train_test_split(X, y, test_size=0.2)\n",
    "ngb = NGBRegressor().fit(X_train, Y_train)\n",
    "Y_preds = ngb.predict(X_test)\n",
    "Y_dists = ngb.pred_dist(X_test)"
   ]
  },
  {
   "cell_type": "code",
   "execution_count": null,
   "metadata": {},
   "outputs": [],
   "source": [
    "x = Y_dists.params[\"scale\"]"
   ]
  },
  {
   "cell_type": "code",
   "execution_count": null,
   "metadata": {},
   "outputs": [],
   "source": [
    "(x*4).mean()"
   ]
  },
  {
   "cell_type": "code",
   "execution_count": 198,
   "metadata": {},
   "outputs": [
    {
     "name": "stdout",
     "output_type": "stream",
     "text": [
      "Fold:  0\n",
      "[iter 0] loss=1.9473 val_loss=0.0000 scale=1.0000 norm=0.6589\n",
      "[iter 100] loss=1.2978 val_loss=0.0000 scale=2.0000 norm=0.8747\n",
      "[iter 200] loss=1.0484 val_loss=0.0000 scale=1.0000 norm=0.4129\n",
      "[iter 300] loss=0.9249 val_loss=0.0000 scale=1.0000 norm=0.4185\n",
      "[iter 400] loss=0.8390 val_loss=0.0000 scale=1.0000 norm=0.4209\n",
      "1.5149380461114876 1.0\n",
      "Fold:  1\n",
      "[iter 0] loss=1.9348 val_loss=0.0000 scale=1.0000 norm=0.6712\n",
      "[iter 100] loss=1.2707 val_loss=0.0000 scale=1.0000 norm=0.4260\n",
      "[iter 200] loss=1.0541 val_loss=0.0000 scale=1.0000 norm=0.4038\n",
      "[iter 300] loss=0.9365 val_loss=0.0000 scale=1.0000 norm=0.4101\n",
      "[iter 400] loss=0.8480 val_loss=0.0000 scale=1.0000 norm=0.4133\n",
      "1.943382733849237 1.0\n",
      "Fold:  2\n",
      "[iter 0] loss=1.8896 val_loss=0.0000 scale=1.0000 norm=0.6620\n",
      "[iter 100] loss=1.2202 val_loss=0.0000 scale=1.0000 norm=0.4181\n",
      "[iter 200] loss=1.0019 val_loss=0.0000 scale=1.0000 norm=0.4052\n",
      "[iter 300] loss=0.8802 val_loss=0.0000 scale=1.0000 norm=0.4057\n",
      "[iter 400] loss=0.8044 val_loss=0.0000 scale=1.0000 norm=0.4058\n",
      "4.5153809506184235 0.9487179487179487\n",
      "Fold:  3\n",
      "[iter 0] loss=1.9448 val_loss=0.0000 scale=1.0000 norm=0.6548\n",
      "[iter 100] loss=1.2279 val_loss=0.0000 scale=2.0000 norm=0.8208\n",
      "[iter 200] loss=1.0004 val_loss=0.0000 scale=2.0000 norm=0.8000\n",
      "[iter 300] loss=0.8737 val_loss=0.0000 scale=1.0000 norm=0.4023\n",
      "[iter 400] loss=0.7787 val_loss=0.0000 scale=2.0000 norm=0.7975\n",
      "4.37072772509808 0.9743589743589743\n",
      "Fold:  4\n",
      "[iter 0] loss=1.9335 val_loss=0.0000 scale=1.0000 norm=0.6638\n",
      "[iter 100] loss=1.3268 val_loss=0.0000 scale=1.0000 norm=0.4457\n",
      "[iter 200] loss=1.0781 val_loss=0.0000 scale=1.0000 norm=0.4145\n",
      "[iter 300] loss=0.9554 val_loss=0.0000 scale=1.0000 norm=0.4114\n",
      "[iter 400] loss=0.8663 val_loss=0.0000 scale=1.0000 norm=0.4130\n",
      "1.1396414657740703 1.0\n",
      "Fold:  5\n",
      "[iter 0] loss=1.9166 val_loss=0.0000 scale=1.0000 norm=0.6652\n",
      "[iter 100] loss=1.2600 val_loss=0.0000 scale=2.0000 norm=0.8426\n",
      "[iter 200] loss=1.0324 val_loss=0.0000 scale=2.0000 norm=0.8075\n",
      "[iter 300] loss=0.9091 val_loss=0.0000 scale=1.0000 norm=0.4065\n",
      "[iter 400] loss=0.8176 val_loss=0.0000 scale=1.0000 norm=0.4072\n",
      "2.740154430921287 0.9743589743589743\n",
      "Fold:  6\n",
      "[iter 0] loss=1.9319 val_loss=0.0000 scale=1.0000 norm=0.6546\n",
      "[iter 100] loss=1.2788 val_loss=0.0000 scale=2.0000 norm=0.8439\n",
      "[iter 200] loss=1.0394 val_loss=0.0000 scale=1.0000 norm=0.4039\n",
      "[iter 300] loss=0.9178 val_loss=0.0000 scale=2.0000 norm=0.8223\n",
      "[iter 400] loss=0.8228 val_loss=0.0000 scale=1.0000 norm=0.4038\n",
      "2.6767350292821255 0.9487179487179487\n",
      "Fold:  7\n",
      "[iter 0] loss=1.9454 val_loss=0.0000 scale=1.0000 norm=0.6585\n",
      "[iter 100] loss=1.3354 val_loss=0.0000 scale=2.0000 norm=0.8622\n",
      "[iter 200] loss=1.0972 val_loss=0.0000 scale=1.0000 norm=0.4095\n",
      "[iter 300] loss=0.9749 val_loss=0.0000 scale=1.0000 norm=0.4134\n",
      "[iter 400] loss=0.8790 val_loss=0.0000 scale=1.0000 norm=0.4134\n",
      "0.9686202011108199 1.0\n",
      "Fold:  8\n",
      "[iter 0] loss=1.9593 val_loss=0.0000 scale=1.0000 norm=0.6684\n",
      "[iter 100] loss=1.2896 val_loss=0.0000 scale=2.0000 norm=0.8564\n",
      "[iter 200] loss=1.0407 val_loss=0.0000 scale=2.0000 norm=0.8355\n",
      "[iter 300] loss=0.9220 val_loss=0.0000 scale=1.0000 norm=0.4250\n",
      "[iter 400] loss=0.8378 val_loss=0.0000 scale=1.0000 norm=0.4280\n",
      "1.0950467101348118 1.0\n",
      "Fold:  9\n",
      "[iter 0] loss=1.9151 val_loss=0.0000 scale=1.0000 norm=0.6648\n",
      "[iter 100] loss=1.2735 val_loss=0.0000 scale=2.0000 norm=0.8408\n",
      "[iter 200] loss=1.0510 val_loss=0.0000 scale=1.0000 norm=0.4088\n",
      "[iter 300] loss=0.9305 val_loss=0.0000 scale=1.0000 norm=0.4068\n",
      "[iter 400] loss=0.8404 val_loss=0.0000 scale=1.0000 norm=0.4034\n",
      "2.561755382000905 0.9487179487179487\n"
     ]
    }
   ],
   "source": [
    "np.random.seed(0)\n",
    "shuffle_split = ShuffleSplit(n_splits=10)\n",
    "scores = []; cils = []; cov = []; alpha = 0.005/2\n",
    "ls = np.array([]); hs = ls; preds = ls; ys = ls\n",
    "for i, (train_indexes, test_indexes) in enumerate(shuffle_split.split(X)):\n",
    "    print(\"Fold: \", i)\n",
    "    model = NGBRegressor(Dist=LogNormal)\n",
    "    model.fit(X[train_indexes], y_0[train_indexes]) \n",
    "    X_ = X[test_indexes] ; y_ = y_0[test_indexes]\n",
    "    dists = model.pred_dist(X_).params\n",
    "    sd = dists[\"scale\"]\n",
    "    pred, sd = lognorm.stats(dists[\"s\"], scale = sd, moments=\"mv\")#dists[\"loc\"]\n",
    "    sd = np.sqrt(sd)\n",
    "    l, h = pred - 6*sd, pred + 6*sd\n",
    "    precision = ciw(l, y_, h)\n",
    "    diff = y_ - pred\n",
    "    #diff = y[test_indexes] - np.exp(dot(X[test_indexes], B))\n",
    "    ls = np.concatenate([ls, l]); hs = np.concatenate([hs, h]); \n",
    "    preds = np.concatenate([preds, pred]); ys = np.concatenate([ys, y_]); \n",
    "    mse = norm(diff)\n",
    "    scores.append(mse)\n",
    "    cils.append(np.mean(h - l))\n",
    "    cov.append(precision)\n",
    "    print(mse, precision)"
   ]
  },
  {
   "cell_type": "code",
   "execution_count": 199,
   "metadata": {},
   "outputs": [
    {
     "data": {
      "text/plain": [
       "(2.352638267490125, 0.9794871794871796, 7.905137760635102)"
      ]
     },
     "execution_count": 199,
     "metadata": {},
     "output_type": "execute_result"
    }
   ],
   "source": [
    "np.mean(scores), np.mean(cov), np.mean(cils)"
   ]
  },
  {
   "cell_type": "code",
   "execution_count": 188,
   "metadata": {},
   "outputs": [
    {
     "name": "stdout",
     "output_type": "stream",
     "text": [
      "Fold 1 & 1.7157 & 0.9744 & 6.069 & 1.5149 & 0.7179 & 2.5105 \\\\ \n",
      "Fold 2 & 1.2611 & 1.0 & 5.3084 & 1.9434 & 0.7436 & 2.6955 \\\\ \n",
      "Fold 3 & 0.8781 & 1.0 & 6.0133 & 4.5154 & 0.641 & 2.6976 \\\\ \n",
      "Fold 4 & 1.2824 & 1.0 & 5.6669 & 4.3707 & 0.7179 & 2.3703 \\\\ \n",
      "Fold 5 & 3.8303 & 0.9744 & 6.0293 & 1.1396 & 0.8974 & 3.0518 \\\\ \n",
      "Fold 6 & 1.4116 & 0.9744 & 6.0392 & 2.7402 & 0.7436 & 2.5669 \\\\ \n",
      "Fold 7 & 1.8173 & 0.9487 & 5.3442 & 2.6767 & 0.7436 & 2.4802 \\\\ \n",
      "Fold 8 & 1.882 & 0.9744 & 5.6052 & 0.9686 & 0.8974 & 2.6298 \\\\ \n",
      "Fold 9 & 1.6701 & 0.9744 & 5.3951 & 1.095 & 0.8462 & 2.5446 \\\\ \n",
      "Fold 10 & 1.2555 & 1.0 & 5.8861 & 2.5618 & 0.8718 & 2.8032\n"
     ]
    }
   ],
   "source": [
    "frn = pd.DataFrame({\"MSE\":scores, \"COV\":cov, \"CIW\":cils}, index=[\"Fold \" + str(d+1) for d in np.arange(10)])\n",
    "frn = round(frn, 4)\n",
    "to_latex(fr.reset_index())\n"
   ]
  },
  {
   "cell_type": "code",
   "execution_count": 187,
   "metadata": {},
   "outputs": [],
   "source": [
    "fr = frw.merge(frn, left_index=True, right_index=True)"
   ]
  },
  {
   "cell_type": "code",
   "execution_count": 166,
   "metadata": {},
   "outputs": [
    {
     "data": {
      "text/plain": [
       "<AxesSubplot:>"
      ]
     },
     "execution_count": 166,
     "metadata": {},
     "output_type": "execute_result"
    },
    {
     "data": {
      "image/png": "[encoded data removed]",
      "text/plain": [
       "<Figure size 432x288 with 1 Axes>"
      ]
     },
     "metadata": {},
     "output_type": "display_data"
    }
   ],
   "source": [
    "xx = pd.DataFrame({\"l\":ls, \"h\":hs, \"y\":ys}, index=preds)\n",
    "#sns.scatt(data=xx.T, palette=\"Set2\", bw=1,  linewidth=1/4)\n",
    "#sns.scatterplot(data=xx)\n",
    "sns.lineplot(data=xx)"
   ]
  },
  {
   "cell_type": "code",
   "execution_count": 192,
   "metadata": {},
   "outputs": [
    {
     "data": {
      "text/plain": [
       "MSE_x    1.70041\n",
       "COV_x    0.98207\n",
       "CIW_x    5.73567\n",
       "MSE_y    2.35263\n",
       "COV_y    0.78204\n",
       "CIW_y    2.63504\n",
       "dtype: float64"
      ]
     },
     "execution_count": 192,
     "metadata": {},
     "output_type": "execute_result"
    }
   ],
   "source": [
    "fr.mean()"
   ]
  },
  {
   "cell_type": "code",
   "execution_count": 194,
   "metadata": {},
   "outputs": [
    {
     "data": {
      "text/plain": [
       "(382,)"
      ]
     },
     "execution_count": 194,
     "metadata": {},
     "output_type": "execute_result"
    }
   ],
   "source": [
    "y_0.shape"
   ]
  },
  {
   "cell_type": "code",
   "execution_count": null,
   "metadata": {},
   "outputs": [],
   "source": []
  }
 ],
 "metadata": {
  "interpreter": {
   "hash": "f9af09ce1ebc96890f56266655b5c02a20c5126b16a835fe11fc11978fa342e3"
  },
  "kernelspec": {
   "display_name": "Python 3.9.5 64-bit ('ndenv': conda)",
   "name": "python3"
  },
  "language_info": {
   "codemirror_mode": {
    "name": "ipython",
    "version": 3
   },
   "file_extension": ".py",
   "mimetype": "text/x-python",
   "name": "python",
   "nbconvert_exporter": "python",
   "pygments_lexer": "ipython3",
   "version": "3.9.5"
  },
  "orig_nbformat": 4
 },
 "nbformat": 4,
 "nbformat_minor": 2
}
